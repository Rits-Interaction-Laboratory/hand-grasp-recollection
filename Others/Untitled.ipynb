{
 "cells": [
  {
   "cell_type": "code",
   "execution_count": 1,
   "metadata": {},
   "outputs": [
    {
     "name": "stdout",
     "output_type": "stream",
     "text": [
      "Current Directory is : C:\\Users\\administrator\n",
      "Input Directory is : C:\\Users\\administrator\\input\n",
      "Output Directory is : C:\\Users\\administrator\\output\n"
     ]
    },
    {
     "ename": "FileNotFoundError",
     "evalue": "[Errno 2] No such file or directory: 'C:\\\\Users\\\\administrator\\\\configFileType.txt'",
     "output_type": "error",
     "traceback": [
      "\u001b[1;31m---------------------------------------------------------------------------\u001b[0m",
      "\u001b[1;31mFileNotFoundError\u001b[0m                         Traceback (most recent call last)",
      "\u001b[1;32m<ipython-input-1-bc6bb22d91f6>\u001b[0m in \u001b[0;36m<module>\u001b[1;34m()\u001b[0m\n\u001b[0;32m     28\u001b[0m \u001b[1;33m\u001b[0m\u001b[0m\n\u001b[0;32m     29\u001b[0m \u001b[1;31m#取得するCSVファイルの名前規則設定ファイルを読み込み\u001b[0m\u001b[1;33m\u001b[0m\u001b[1;33m\u001b[0m\u001b[0m\n\u001b[1;32m---> 30\u001b[1;33m \u001b[0mfp_ftype_conf\u001b[0m \u001b[1;33m=\u001b[0m \u001b[0mopen\u001b[0m\u001b[1;33m(\u001b[0m\u001b[0mdir_csv_viz\u001b[0m \u001b[1;33m+\u001b[0m \u001b[1;34m\"\\\\configFileType.txt\"\u001b[0m\u001b[1;33m,\u001b[0m \u001b[1;34m\"r\"\u001b[0m\u001b[1;33m)\u001b[0m\u001b[1;33m\u001b[0m\u001b[0m\n\u001b[0m\u001b[0;32m     31\u001b[0m \u001b[0mfile_type\u001b[0m \u001b[1;33m=\u001b[0m \u001b[1;34m\"\"\u001b[0m\u001b[1;33m\u001b[0m\u001b[0m\n\u001b[0;32m     32\u001b[0m \u001b[1;32mfor\u001b[0m \u001b[0mline\u001b[0m \u001b[1;32min\u001b[0m \u001b[0mfp_ftype_conf\u001b[0m\u001b[1;33m:\u001b[0m\u001b[1;33m\u001b[0m\u001b[0m\n",
      "\u001b[1;31mFileNotFoundError\u001b[0m: [Errno 2] No such file or directory: 'C:\\\\Users\\\\administrator\\\\configFileType.txt'"
     ]
    }
   ],
   "source": [
    "import glob\n",
    "import os\n",
    "import csv\n",
    "import matplotlib.pyplot as plt\n",
    "import seaborn as sns\n",
    "from mpl_toolkits.mplot3d import Axes3D\n",
    "\n",
    "sns.set_style(\"darkgrid\")\n",
    "fig = plt.figure()\n",
    "ax = Axes3D(fig)\n",
    "ax.set_xlabel(\"x\")\n",
    "ax.set_ylabel(\"y\")\n",
    "ax.set_zlabel(\"z\")\n",
    "\n",
    "#os.chdir(\"./CSV_Visualizer_python\")\n",
    "#os.chdir(\"../\")\n",
    "#実行ディレクトリを取得\n",
    "dir_csv_viz = os.getcwd()\n",
    "#入力ディレクトリ名を指定\n",
    "dir_input = dir_csv_viz + \"\\\\input\"\n",
    "#出力ディレクトリ名を指定\n",
    "dir_output =dir_csv_viz + \"\\\\output\"\n",
    "\n",
    "#print(os.getcwd())\n",
    "print(\"Current Directory is : \" + dir_csv_viz)\n",
    "print(\"Input Directory is : \" + dir_input)\n",
    "print(\"Output Directory is : \" + dir_output)\n",
    "\n",
    "#取得するCSVファイルの名前規則設定ファイルを読み込み\n",
    "fp_ftype_conf = open(dir_csv_viz + \"\\\\configFileType.txt\", \"r\")\n",
    "file_type = \"\"\n",
    "for line in fp_ftype_conf:\n",
    "    file_type = line\n",
    "fp_ftype_conf.close()\n",
    "print(file_type)\n",
    "\n",
    "#入力ディレクトリ内CSVファイルの名前リストを取得\n",
    "csv_name_list = glob.glob(dir_input + \"\\\\\" + file_type)\n",
    "#print(csv_name_list)\n",
    "\n",
    "#CSVファイル名リストのファイルを1つずつ可視化していく\n",
    "for f in csv_name_list:\n",
    "    fp_csv = open(f, \"r\")\n",
    "    \n",
    "    #1つのCSVからデータを読み取る\n",
    "    reader = csv.reader(fp_csv)\n",
    "    data = [row for row in reader]\n",
    "    data_T = [list(x) for x in zip(*data)]\n",
    "    #print(data)\n",
    "    #print(data_T)\n",
    "    \n",
    "    #id,x,y,confidency,zそれぞれの値列として取得\n",
    "    ids = [int(id) for id in data_T[0]]\n",
    "    x_values = [int(x) for x in data_T[1]]\n",
    "    y_values = [int(y) for y in data_T[2]]\n",
    "    confidences = [float(c) for c in data_T[3]]\n",
    "    z_values = [int(z) for z in data_T[4]]\n",
    "    #print(ids)\n",
    "    #print(x_values)\n",
    "    #print(y_values)\n",
    "    #print(confidences)\n",
    "    #print(z_values)\n",
    "    ax.plot(x_values, y_values, z_values, marker = \"o\", linestyle = 'None')\n",
    "    plt.show\n",
    "    a = input()\n",
    "    "
   ]
  },
  {
   "cell_type": "code",
   "execution_count": null,
   "metadata": {},
   "outputs": [],
   "source": []
  }
 ],
 "metadata": {
  "kernelspec": {
   "display_name": "Python 3",
   "language": "python",
   "name": "python3"
  },
  "language_info": {
   "codemirror_mode": {
    "name": "ipython",
    "version": 3
   },
   "file_extension": ".py",
   "mimetype": "text/x-python",
   "name": "python",
   "nbconvert_exporter": "python",
   "pygments_lexer": "ipython3",
   "version": "3.7.0"
  }
 },
 "nbformat": 4,
 "nbformat_minor": 2
}
