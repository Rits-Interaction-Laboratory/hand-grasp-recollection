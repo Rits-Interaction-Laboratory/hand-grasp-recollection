{
 "cells": [
  {
   "cell_type": "code",
   "execution_count": 1,
   "metadata": {},
   "outputs": [
    {
     "name": "stdout",
     "output_type": "stream",
     "text": [
      "data_id: 1000\n"
     ]
    }
   ],
   "source": [
    "import os\n",
    "import random\n",
    "import csv\n",
    "import numpy as np\n",
    "import matplotlib.pyplot as plt\n",
    "\n",
    "path = os.getcwd()\n",
    "data_dir = path + \"\\\\dataset\"\n",
    "img_dir = path + \"\\\\img\"\n",
    "id_txt = path + \"\\\\id.txt\"\n",
    "os.makedirs(data_dir, exist_ok = True)\n",
    "os.makedirs(img_dir, exist_ok = True)\n",
    "\n",
    "radius = 30\n",
    "origin_x = 0\n",
    "origin_y = 0\n",
    "num_pnt = 21\n",
    "data_id = 0\n",
    "data_num = 1 #作成したいデータ数に書き換え\n",
    "\n",
    "#data_id 読み込み\n",
    "def read_id():\n",
    "    with open(id_txt) as f:\n",
    "        f_id = int(f.read())\n",
    "    return f_id\n",
    "\n",
    "#data_id 書き込み\n",
    "def write_id(id_num = None):\n",
    "    with open(id_txt, mode='w') as f:\n",
    "        if id_num == None:\n",
    "            id_num = \"0\"\n",
    "        f.write(str(id_num))\n",
    "\n",
    "#csv 出力\n",
    "def write_csv(data, data_id):\n",
    "    with open(data_dir + \"\\\\{:0=6}.csv\".format(data_id), 'w') as f:\n",
    "        writer = csv.writer(f)\n",
    "        writer.writerow(data)\n",
    "\n",
    "#idファイルが存在していない場合は作成\n",
    "if not os.path.isfile(id_txt):\n",
    "    write_id()\n",
    "\n",
    "for i in range(data_num):\n",
    "    data_id = read_id()\n",
    "    print(\"data_id:\", data_id)\n",
    "    \n",
    "    #グラフの描画先の準備\n",
    "    fig = plt.figure()\n",
    "\n",
    "    data = []\n",
    "    xs = []\n",
    "    ys = []\n",
    "    for p in range(num_pnt):\n",
    "        #print(\"point:\", p)\n",
    "        theta = np.deg2rad(random.uniform(0, 360))\n",
    "        px = int(radius * np.cos(theta))\n",
    "        py = int(radius * np.sin(theta))\n",
    "        data.append(px)\n",
    "        xs.append(px)\n",
    "        data.append(py)\n",
    "        ys.append(py)\n",
    "    \n",
    "    #生成したデータをプロット\n",
    "    plt.scatter(xs, ys)\n",
    "    \n",
    "    #print(len(data))\n",
    "    write_csv(data, data_id)\n",
    "    fig.savefig(img_dir + \"\\\\{:0=6}.png\".format(data_id))\n",
    "    plt.close()\n",
    "    write_id(data_id + 1)"
   ]
  },
  {
   "cell_type": "code",
   "execution_count": null,
   "metadata": {},
   "outputs": [],
   "source": []
  }
 ],
 "metadata": {
  "kernelspec": {
   "display_name": "Python 3",
   "language": "python",
   "name": "python3"
  },
  "language_info": {
   "codemirror_mode": {
    "name": "ipython",
    "version": 3
   },
   "file_extension": ".py",
   "mimetype": "text/x-python",
   "name": "python",
   "nbconvert_exporter": "python",
   "pygments_lexer": "ipython3",
   "version": "3.7.0"
  }
 },
 "nbformat": 4,
 "nbformat_minor": 4
}
