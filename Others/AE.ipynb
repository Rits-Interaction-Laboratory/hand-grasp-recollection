{
 "cells": [
  {
   "cell_type": "code",
   "execution_count": 4,
   "metadata": {},
   "outputs": [],
   "source": [
    "import numpy as np\n",
    "from sklearn import datasets\n",
    "iris = datasets.load_iris() # アヤメのデータの読み込み\n",
    "data = iris.data.astype(np.float32)\n",
    "X = data \n",
    "Y = iris.target\n",
    "\n",
    "index = np.arange(Y.size)\n",
    "X_train = X[index[index % 2 != 0], :] # 説明変数（教師データ）\n",
    "X_test = X[index[index % 2 == 0], :] # 説明変数（テストデータ）\n",
    "\n",
    "import torch\n",
    "X_train = torch.from_numpy(X_train).float()\n",
    "X_test = torch.from_numpy(X_test).float()\n",
    "\n",
    "from torch.utils.data import TensorDataset\n",
    "train = TensorDataset(X_train, X_train)\n",
    "\n",
    "from torch.utils.data import DataLoader\n",
    "train_loader = DataLoader(train, batch_size=10, shuffle=True)"
   ]
  },
  {
   "cell_type": "code",
   "execution_count": 5,
   "metadata": {},
   "outputs": [],
   "source": [
    "class MLPR(torch.nn.Module):\n",
    "    def __init__(self, n_input, n_hidden, n_output):\n",
    "        super(MLPR, self).__init__()\n",
    "        self.l1 = torch.nn.Linear(n_input, n_hidden)\n",
    "        self.l2 = torch.nn.Linear(n_hidden, n_output)\n",
    "\n",
    "    def forward(self, x):\n",
    "        h1 = self.l1(x)\n",
    "        h2 = torch.sigmoid(h1)\n",
    "        h3 = self.l2(h2)\n",
    "        return h3\n",
    "\n",
    "    def project(self, x):\n",
    "        h1 = self.l1(x)\n",
    "        h2 = torch.sigmoid(h1)\n",
    "        return h2"
   ]
  },
  {
   "cell_type": "code",
   "execution_count": 6,
   "metadata": {},
   "outputs": [
    {
     "name": "stdout",
     "output_type": "stream",
     "text": [
      "50 6.317822217941284\n",
      "100 3.994909793138504\n",
      "150 2.713336765766144\n",
      "200 2.054010346531868\n",
      "250 1.6589311733841896\n",
      "300 1.3480709046125412\n",
      "350 1.1511779427528381\n",
      "400 0.9947337508201599\n",
      "450 0.9792218580842018\n",
      "500 0.8882438614964485\n"
     ]
    }
   ],
   "source": [
    "model = MLPR(4, 2, 4)\n",
    "criterion = torch.nn.MSELoss()\n",
    "optimizer = torch.optim.SGD(model.parameters(), lr=0.01)\n",
    "\n",
    "from torch.autograd import Variable\n",
    "loss_history = []\n",
    "for epoch in range(500):\n",
    "    total_loss = 0\n",
    "    for x_train, y_train in train_loader:\n",
    "        x_train = Variable(x_train)\n",
    "        y_train = Variable(y_train)\n",
    "        optimizer.zero_grad()\n",
    "        y_pred = model(x_train)\n",
    "        loss = criterion(y_pred, y_train)\n",
    "        loss.backward()\n",
    "        optimizer.step()\n",
    "        total_loss += loss.item()\n",
    "    loss_history.append(total_loss)\n",
    "    if (epoch +1) % 50 == 0:\n",
    "        print(epoch + 1, total_loss)"
   ]
  },
  {
   "cell_type": "code",
   "execution_count": 7,
   "metadata": {},
   "outputs": [
    {
     "data": {
      "text/plain": [
       "[<matplotlib.lines.Line2D at 0x1eaa4e0b240>]"
      ]
     },
     "execution_count": 7,
     "metadata": {},
     "output_type": "execute_result"
    },
    {
     "data": {
      "image/png": "[encoded data removed]",
      "text/plain": [
       "<Figure size 432x288 with 1 Axes>"
      ]
     },
     "metadata": {
      "needs_background": "light"
     },
     "output_type": "display_data"
    }
   ],
   "source": [
    "%matplotlib inline\n",
    "import matplotlib.pyplot as plt\n",
    "plt.plot(loss_history)"
   ]
  },
  {
   "cell_type": "code",
   "execution_count": 8,
   "metadata": {},
   "outputs": [],
   "source": [
    "latent = model.project(X_train)"
   ]
  },
  {
   "cell_type": "code",
   "execution_count": 9,
   "metadata": {},
   "outputs": [
    {
     "data": {
      "image/png": "[encoded data removed]",
      "text/plain": [
       "<Figure size 432x288 with 1 Axes>"
      ]
     },
     "metadata": {
      "needs_background": "light"
     },
     "output_type": "display_data"
    }
   ],
   "source": [
    "%matplotlib inline\n",
    "import matplotlib.pyplot as plt\n",
    "plt.scatter(latent.data[0:50, 0], latent.data[0:50, 1], alpha=0.5)\n",
    "plt.scatter(latent.data[50:100, 0], latent.data[50:100, 1], alpha=0.5)\n",
    "plt.scatter(latent.data[100:150, 0], latent.data[100:150, 1], alpha=0.5)\n",
    "plt.grid()"
   ]
  },
  {
   "cell_type": "code",
   "execution_count": null,
   "metadata": {},
   "outputs": [],
   "source": []
  }
 ],
 "metadata": {
  "kernelspec": {
   "display_name": "Python 3",
   "language": "python",
   "name": "python3"
  },
  "language_info": {
   "codemirror_mode": {
    "name": "ipython",
    "version": 3
   },
   "file_extension": ".py",
   "mimetype": "text/x-python",
   "name": "python",
   "nbconvert_exporter": "python",
   "pygments_lexer": "ipython3",
   "version": "3.7.0"
  }
 },
 "nbformat": 4,
 "nbformat_minor": 2
}
