{
 "cells": [
  {
   "cell_type": "code",
   "execution_count": 1,
   "metadata": {},
   "outputs": [],
   "source": [
    "import numpy as np\n",
    "from sklearn import datasets\n",
    "iris = datasets.load_iris() # アヤメのデータの読み込み\n",
    "data = iris.data.astype(np.float32)\n",
    "X = data[:, :3] # アヤメの計測データのうち、最初の３つを説明変数とします。\n",
    "Y = data[:, 3].reshape(len(data), 1) # 最後の１つを目的変数とします。\n",
    "\n",
    "# 奇数番目のデータを教師データ、偶数番目のデータをテストデータとします。\n",
    "index = np.arange(Y.size)\n",
    "X_train = X[index[index % 2 != 0], :] # 説明変数（教師データ）\n",
    "X_test = X[index[index % 2 == 0], :] # 説明変数（テストデータ）\n",
    "Y_train = Y[index[index % 2 != 0], :] # 目的変数（教師データ）\n",
    "Y_test = Y[index[index % 2 == 0], :] # 目的変数（テストデータ）\n",
    "\n",
    "import torch\n",
    "X_train = torch.from_numpy(X_train).float()\n",
    "X_test = torch.from_numpy(X_test).float()\n",
    "Y_train = torch.from_numpy(Y_train).float()\n",
    "Y_test = torch.from_numpy(Y_test).float()\n",
    "\n",
    "from torch.utils.data import TensorDataset\n",
    "train = TensorDataset(X_train, Y_train)\n",
    "\n",
    "from torch.utils.data import DataLoader\n",
    "train_loader = DataLoader(train, batch_size=10, shuffle=True)"
   ]
  },
  {
   "cell_type": "code",
   "execution_count": 2,
   "metadata": {},
   "outputs": [],
   "source": [
    "#import torch.nn.functional as F\n",
    "class MLPR(torch.nn.Module):\n",
    "    def __init__(self, n_input, n_hidden, n_output):\n",
    "        super(MLPR, self).__init__()\n",
    "        self.l1 = torch.nn.Linear(n_input, n_hidden)\n",
    "        self.l2 = torch.nn.Linear(n_hidden, n_output)\n",
    "\n",
    "    def forward(self, x):\n",
    "        h1 = self.l1(x)\n",
    "        h2 = torch.sigmoid(h1)\n",
    "        h3 = self.l2(h2)\n",
    "        return h3"
   ]
  },
  {
   "cell_type": "code",
   "execution_count": 3,
   "metadata": {},
   "outputs": [
    {
     "name": "stdout",
     "output_type": "stream",
     "text": [
      "500 0.35676868446171284\n",
      "1000 0.3428170122206211\n",
      "1500 0.32356187514960766\n",
      "2000 0.32285130210220814\n",
      "2500 0.29634756315499544\n",
      "3000 0.31214264407753944\n",
      "3500 0.3139023622497916\n",
      "4000 0.281060092151165\n",
      "4500 0.29719276959076524\n",
      "5000 0.28280818928033113\n"
     ]
    }
   ],
   "source": [
    "model = MLPR(3, 3, 1)\n",
    "criterion = torch.nn.MSELoss()\n",
    "optimizer = torch.optim.SGD(model.parameters(), lr=0.01)\n",
    "\n",
    "from torch.autograd import Variable\n",
    "loss_history = []\n",
    "for epoch in range(5000):\n",
    "    total_loss = 0\n",
    "    for x_train, y_train in train_loader:\n",
    "        x_train = Variable(x_train)\n",
    "        y_train = Variable(y_train)\n",
    "        optimizer.zero_grad()\n",
    "        y_pred = model(x_train)\n",
    "        loss = criterion(y_pred, y_train)\n",
    "        loss.backward()\n",
    "        optimizer.step()\n",
    "        total_loss += loss.item()\n",
    "    loss_history.append(total_loss)\n",
    "    if (epoch +1) % 500 == 0:\n",
    "        print(epoch + 1, total_loss)"
   ]
  },
  {
   "cell_type": "code",
   "execution_count": 4,
   "metadata": {},
   "outputs": [
    {
     "data": {
      "text/plain": [
       "[<matplotlib.lines.Line2D at 0x26b587ee6a0>]"
      ]
     },
     "execution_count": 4,
     "metadata": {},
     "output_type": "execute_result"
    },
    {
     "data": {
      "image/png": "[encoded data removed]",
      "text/plain": [
       "<Figure size 432x288 with 1 Axes>"
      ]
     },
     "metadata": {
      "needs_background": "light"
     },
     "output_type": "display_data"
    }
   ],
   "source": [
    "%matplotlib inline\n",
    "import matplotlib.pyplot as plt\n",
    "plt.plot(loss_history)"
   ]
  },
  {
   "cell_type": "code",
   "execution_count": 5,
   "metadata": {},
   "outputs": [
    {
     "name": "stderr",
     "output_type": "stream",
     "text": [
      "No handles with labels found to put in legend.\n"
     ]
    },
    {
     "data": {
      "image/png": "[encoded data removed]",
      "text/plain": [
       "<Figure size 432x432 with 1 Axes>"
      ]
     },
     "metadata": {
      "needs_background": "light"
     },
     "output_type": "display_data"
    }
   ],
   "source": [
    "%matplotlib inline\n",
    "import matplotlib.pyplot as plt\n",
    "plt.figure(figsize=(6,6))\n",
    "plt.scatter(Y_train.flatten(), model.forward(X_train).data.flatten(), alpha=0.5)\n",
    "plt.plot([min(Y), max(Y)], [min(Y), max(Y)])\n",
    "plt.grid()\n",
    "plt.legend()\n",
    "plt.xlabel('Observed')\n",
    "plt.ylabel('Predicted')\n",
    "plt.show()"
   ]
  },
  {
   "cell_type": "code",
   "execution_count": null,
   "metadata": {},
   "outputs": [],
   "source": []
  }
 ],
 "metadata": {
  "kernelspec": {
   "display_name": "Python 3",
   "language": "python",
   "name": "python3"
  },
  "language_info": {
   "codemirror_mode": {
    "name": "ipython",
    "version": 3
   },
   "file_extension": ".py",
   "mimetype": "text/x-python",
   "name": "python",
   "nbconvert_exporter": "python",
   "pygments_lexer": "ipython3",
   "version": "3.7.0"
  }
 },
 "nbformat": 4,
 "nbformat_minor": 2
}
