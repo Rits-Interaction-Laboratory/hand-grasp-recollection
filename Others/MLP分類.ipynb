{
 "cells": [
  {
   "cell_type": "code",
   "execution_count": 1,
   "metadata": {},
   "outputs": [],
   "source": [
    "import numpy as np\n",
    "from sklearn import datasets\n",
    "iris = datasets.load_iris() # アヤメのデータの読み込み\n",
    "X = iris.data.astype(np.float32) # ４変数を説明変数とする\n",
    "Y = iris.target # アヤメの品種（３種）を目的変数とする"
   ]
  },
  {
   "cell_type": "code",
   "execution_count": 2,
   "metadata": {},
   "outputs": [],
   "source": [
    "# アヤメの品種を one-hot vector に変換\n",
    "Y_ohv = np.zeros(3 * Y.size).reshape(Y.size, 3).astype(np.float32)\n",
    "for i in range(Y.size):\n",
    "    Y_ohv[i, Y[i]] = 1.0 # one-hot vector"
   ]
  },
  {
   "cell_type": "code",
   "execution_count": 3,
   "metadata": {},
   "outputs": [],
   "source": [
    "# 奇数番目のデータを教師データ、偶数番目のデータをテストデータとする\n",
    "index = np.arange(Y.size)\n",
    "X_train = X[index[index % 2 != 0], :] # 説明変数（教師データ）\n",
    "X_test = X[index[index % 2 == 0], :] # 説明変数（テストデータ）\n",
    "Y_train = Y_ohv[index[index % 2 != 0], :] # 目的変数の one-hot vector （教師データ）\n",
    "Y_test = Y_ohv[index[index % 2 == 0], :] # 目的変数の one-hot vector （テストデータ）\n",
    "Y_ans_train = Y[index[index % 2 != 0]] # 目的変数（教師データ）\n",
    "Y_ans_test = Y[index[index % 2 == 0]] # 目的変数（テストデータ）"
   ]
  },
  {
   "cell_type": "code",
   "execution_count": 4,
   "metadata": {},
   "outputs": [],
   "source": [
    "import torch\n",
    "from torch.utils.data import TensorDataset\n",
    "from torch.utils.data import DataLoader\n",
    "\n",
    "X_train = torch.from_numpy(X_train).float()\n",
    "X_test = torch.from_numpy(X_test).float()\n",
    "Y_train = torch.from_numpy(Y_train).float()\n",
    "Y_test = torch.from_numpy(Y_test).float()\n",
    "\n",
    "train = TensorDataset(X_train, Y_train)\n",
    "\n",
    "train_loader = DataLoader(train, batch_size=10, shuffle=True)"
   ]
  },
  {
   "cell_type": "code",
   "execution_count": 5,
   "metadata": {},
   "outputs": [],
   "source": [
    "class MLPC(torch.nn.Module):\n",
    "    def __init__(self, n_input, n_hidden, n_output):\n",
    "        super(MLPC, self).__init__()\n",
    "        self.l1 = torch.nn.Linear(n_input, n_hidden)\n",
    "        self.l2 = torch.nn.Linear(n_hidden, n_output)\n",
    "\n",
    "    def forward(self, x):\n",
    "        h1 = self.l1(x)\n",
    "        h2 = torch.sigmoid(h1)\n",
    "        h3 = self.l2(h2)\n",
    "        h4 = torch.sigmoid(h3)\n",
    "        return h4"
   ]
  },
  {
   "cell_type": "code",
   "execution_count": 6,
   "metadata": {},
   "outputs": [
    {
     "name": "stdout",
     "output_type": "stream",
     "text": [
      "500 1.7699707448482513\n",
      "1000 1.7264840304851532\n",
      "1500 1.5750595480203629\n",
      "2000 1.3672300428152084\n",
      "2500 1.2094478011131287\n",
      "3000 1.094790630042553\n",
      "3500 1.0121220275759697\n",
      "4000 0.9530835151672363\n",
      "4500 0.9319839179515839\n",
      "5000 0.8511377573013306\n"
     ]
    }
   ],
   "source": [
    "model = MLPC(4, 3, 3)\n",
    "criterion = torch.nn.MSELoss()\n",
    "optimizer = torch.optim.SGD(model.parameters(), lr=0.01)\n",
    "\n",
    "from torch.autograd import Variable\n",
    "loss_history = []\n",
    "for epoch in range(5000):\n",
    "    total_loss = 0\n",
    "    for x_train, y_train in train_loader:\n",
    "        x_train = Variable(x_train)\n",
    "        y_train = Variable(y_train)\n",
    "        optimizer.zero_grad()\n",
    "        y_pred = model(x_train)\n",
    "        loss = criterion(y_pred, y_train)\n",
    "        loss.backward()\n",
    "        optimizer.step()\n",
    "        total_loss += loss.item()\n",
    "    loss_history.append(total_loss)\n",
    "    if (epoch +1) % 500 == 0:\n",
    "        print(epoch + 1, total_loss)"
   ]
  },
  {
   "cell_type": "code",
   "execution_count": 7,
   "metadata": {},
   "outputs": [
    {
     "data": {
      "text/plain": [
       "[<matplotlib.lines.Line2D at 0x2cacba6a0f0>]"
      ]
     },
     "execution_count": 7,
     "metadata": {},
     "output_type": "execute_result"
    },
    {
     "data": {
      "image/png": "[encoded data removed]",
      "text/plain": [
       "<Figure size 432x288 with 1 Axes>"
      ]
     },
     "metadata": {
      "needs_background": "light"
     },
     "output_type": "display_data"
    }
   ],
   "source": [
    "%matplotlib inline\n",
    "import matplotlib.pyplot as plt\n",
    "plt.plot(loss_history)"
   ]
  },
  {
   "cell_type": "code",
   "execution_count": 8,
   "metadata": {},
   "outputs": [
    {
     "name": "stdout",
     "output_type": "stream",
     "text": [
      "69  /  75  =  0.92\n"
     ]
    }
   ],
   "source": [
    "Y_pred = model.forward(X_train)\n",
    "nrow, ncol = Y_pred.data.shape\n",
    "\n",
    "count = 0\n",
    "for i in range(nrow):\n",
    "    cls = np.argmax(Y_pred.data[i, :])\n",
    "    if cls == Y_ans_train[i]:\n",
    "        count += 1\n",
    "\n",
    "print(count, \" / \", nrow, \" = \", count / nrow)"
   ]
  },
  {
   "cell_type": "code",
   "execution_count": null,
   "metadata": {},
   "outputs": [],
   "source": []
  }
 ],
 "metadata": {
  "kernelspec": {
   "display_name": "Python 3",
   "language": "python",
   "name": "python3"
  },
  "language_info": {
   "codemirror_mode": {
    "name": "ipython",
    "version": 3
   },
   "file_extension": ".py",
   "mimetype": "text/x-python",
   "name": "python",
   "nbconvert_exporter": "python",
   "pygments_lexer": "ipython3",
   "version": "3.7.0"
  }
 },
 "nbformat": 4,
 "nbformat_minor": 2
}
