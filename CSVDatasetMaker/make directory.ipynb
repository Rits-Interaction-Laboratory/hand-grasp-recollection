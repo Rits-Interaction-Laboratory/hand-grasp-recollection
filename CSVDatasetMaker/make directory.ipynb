{
 "cells": [
  {
   "cell_type": "code",
   "execution_count": 3,
   "metadata": {},
   "outputs": [
    {
     "name": "stdout",
     "output_type": "stream",
     "text": [
      "fin\n"
     ]
    }
   ],
   "source": [
    "#!/usr/bin/env python\n",
    "# coding: utf-8\n",
    "\n",
    "import glob\n",
    "import os\n",
    "import csv\n",
    "import copy\n",
    "\n",
    "PATH = os.getcwd()\n",
    "obj_dir = \"C:\\\\Users\\\\administrator\\\\Desktop\\\\MonitoringSystem(物体操作シーン解析)\\\\img\\\\20200116_223630\\\\10frame_sampling\"\n",
    "dirs = glob.glob(obj_dir+\"\\\\*-*\")\n",
    "#print(dirs)\n",
    "for d in dirs:\n",
    "    os.makedirs(d+\"\\\\down3d\\\\lc\", exist_ok=True)\n",
    "    os.makedirs(d+\"\\\\down3d\\\\l\", exist_ok=True)\n",
    "print(\"fin\")"
   ]
  },
  {
   "cell_type": "code",
   "execution_count": null,
   "metadata": {},
   "outputs": [],
   "source": []
  }
 ],
 "metadata": {
  "kernelspec": {
   "display_name": "Python 3",
   "language": "python",
   "name": "python3"
  },
  "language_info": {
   "codemirror_mode": {
    "name": "ipython",
    "version": 3
   },
   "file_extension": ".py",
   "mimetype": "text/x-python",
   "name": "python",
   "nbconvert_exporter": "python",
   "pygments_lexer": "ipython3",
   "version": "3.7.0"
  }
 },
 "nbformat": 4,
 "nbformat_minor": 2
}
