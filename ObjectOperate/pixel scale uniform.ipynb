{
 "cells": [
  {
   "cell_type": "code",
   "execution_count": 14,
   "metadata": {},
   "outputs": [
    {
     "name": "stdout",
     "output_type": "stream",
     "text": [
      "px983\n",
      "py471\n",
      "pz2940\n",
      "supw 22.439516246688992\n",
      "suph -67.31854874006697\n"
     ]
    }
   ],
   "source": [
    "import math\n",
    "\n",
    "def pxScaleUniform(PWfromC, PHfromC, Dreal):\n",
    "    tan35 = math.tan(math.radians(45))\n",
    "    halfwidth = (512./2.)*3.\n",
    "    camDistPixel = halfwidth / tan35\n",
    "\n",
    "    Wtheta = math.atan2(PWfromC, camDistPixel)\n",
    "    Htheta = math.atan2(PHfromC, camDistPixel)\n",
    "    DBasePW = 3000./math.cos(Wtheta)\n",
    "    DBasePH = 3000./math.cos(Htheta)\n",
    "    ratePW = Dreal * math.cos(Htheta)/DBasePW\n",
    "    ratePH = Dreal * math.cos(Wtheta)/DBasePH\n",
    "    suPW = PWfromC * ratePW\n",
    "    suPH = PHfromC * ratePH\n",
    "\n",
    "    return suPW, suPH\n",
    "\n",
    "pw = int(input(\"px\")) - 1920./2.\n",
    "ph = int(input(\"py\")) - 1080./2.\n",
    "pD = float(input(\"pz\"))\n",
    "supw, suph = pxScaleUniform(pw,ph,pD)\n",
    "print(\"supw\",supw)\n",
    "print(\"suph\",suph)"
   ]
  },
  {
   "cell_type": "code",
   "execution_count": null,
   "metadata": {},
   "outputs": [],
   "source": []
  }
 ],
 "metadata": {
  "kernelspec": {
   "display_name": "Python 3",
   "language": "python",
   "name": "python3"
  },
  "language_info": {
   "codemirror_mode": {
    "name": "ipython",
    "version": 3
   },
   "file_extension": ".py",
   "mimetype": "text/x-python",
   "name": "python",
   "nbconvert_exporter": "python",
   "pygments_lexer": "ipython3",
   "version": "3.7.0"
  }
 },
 "nbformat": 4,
 "nbformat_minor": 2
}
