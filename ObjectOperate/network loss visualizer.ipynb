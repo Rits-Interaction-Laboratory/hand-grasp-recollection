{
 "cells": [
  {
   "cell_type": "code",
   "execution_count": 9,
   "metadata": {},
   "outputs": [
    {
     "ename": "FileNotFoundError",
     "evalue": "[Errno 2] No such file or directory: 'C:\\\\Users\\\\administrator\\\\ObjectOperate\\\\loss values.txt'",
     "output_type": "error",
     "traceback": [
      "\u001b[1;31m---------------------------------------------------------------------------\u001b[0m",
      "\u001b[1;31mFileNotFoundError\u001b[0m                         Traceback (most recent call last)",
      "\u001b[1;32m<ipython-input-9-533787547f0b>\u001b[0m in \u001b[0;36m<module>\u001b[1;34m()\u001b[0m\n\u001b[0;32m     14\u001b[0m \u001b[0mtest_loss_value\u001b[0m \u001b[1;33m=\u001b[0m \u001b[1;33m[\u001b[0m\u001b[1;33m]\u001b[0m\u001b[1;33m\u001b[0m\u001b[0m\n\u001b[0;32m     15\u001b[0m \u001b[1;33m\u001b[0m\u001b[0m\n\u001b[1;32m---> 16\u001b[1;33m \u001b[1;32mwith\u001b[0m \u001b[0mopen\u001b[0m\u001b[1;33m(\u001b[0m\u001b[0mPATH\u001b[0m \u001b[1;33m+\u001b[0m \u001b[1;34m\"\\\\loss values.txt\"\u001b[0m\u001b[1;33m,\u001b[0m \u001b[0mmode\u001b[0m\u001b[1;33m=\u001b[0m\u001b[1;34m'r'\u001b[0m\u001b[1;33m)\u001b[0m \u001b[1;32mas\u001b[0m \u001b[0mf\u001b[0m\u001b[1;33m:\u001b[0m\u001b[1;33m\u001b[0m\u001b[0m\n\u001b[0m\u001b[0;32m     17\u001b[0m     \u001b[0ml_strip\u001b[0m \u001b[1;33m=\u001b[0m \u001b[1;33m[\u001b[0m\u001b[0ms\u001b[0m\u001b[1;33m.\u001b[0m\u001b[0mstrip\u001b[0m\u001b[1;33m(\u001b[0m\u001b[1;33m)\u001b[0m \u001b[1;32mfor\u001b[0m \u001b[0ms\u001b[0m \u001b[1;32min\u001b[0m \u001b[0mf\u001b[0m\u001b[1;33m.\u001b[0m\u001b[0mreadlines\u001b[0m\u001b[1;33m(\u001b[0m\u001b[1;33m)\u001b[0m\u001b[1;33m]\u001b[0m\u001b[1;33m\u001b[0m\u001b[0m\n\u001b[0;32m     18\u001b[0m     \u001b[1;32mfor\u001b[0m \u001b[0mrow\u001b[0m \u001b[1;32min\u001b[0m \u001b[0ml_strip\u001b[0m\u001b[1;33m:\u001b[0m\u001b[1;33m\u001b[0m\u001b[0m\n",
      "\u001b[1;31mFileNotFoundError\u001b[0m: [Errno 2] No such file or directory: 'C:\\\\Users\\\\administrator\\\\ObjectOperate\\\\loss values.txt'"
     ]
    }
   ],
   "source": [
    "#何らかの理由でlossグラフが出力できなかったとき用、学習時のlossログは残っている場合\n",
    "\n",
    "import csv\n",
    "import os\n",
    "import matplotlib\n",
    "import matplotlib.pyplot as plt    #グラフ出力用module\n",
    "#matplotlib.use('Agg')\n",
    "import seaborn as sns\n",
    "from mpl_toolkits.mplot3d import Axes3D\n",
    "sns.set_style(\"darkgrid\")\n",
    "\n",
    "PATH = os.getcwd()\n",
    "target_epoch = 1\n",
    "buffer = []\n",
    "train_loss_value = []\n",
    "test_loss_value = []\n",
    "\n",
    "with open(PATH + \"\\\\loss values.txt\", mode='r') as f:\n",
    "    l_strip = [s.strip() for s in f.readlines()]\n",
    "    for row in l_strip:\n",
    "        if row and not(row.startswith(\"epoch\")) and not(row.startswith(\"fin\")) and not(row == \"test_train\") and not(row == \"test_test\"):\n",
    "            val = row.replace(\"train mean loss=\", \"\")\n",
    "            val = val.replace(\"test mean loss=\", \"\")\n",
    "            buffer.append(float(val))\n",
    "for v in range(int(len(buffer)/2)):\n",
    "    train_loss_value.append(buffer[v*2+0])\n",
    "    test_loss_value.append(buffer[v*2+1])\n",
    "#print(train_loss_value)\n",
    "#print(test_loss_value)\n",
    "max_train_loss_value = max(train_loss_value)\n",
    "max_test_loss_value = max(test_loss_value)\n",
    "plt.figure(figsize=(7,7))      #グラフ描画用\n",
    "ylim = max(max_train_loss_value, max_test_loss_value)\n",
    "\n",
    "baseEPOCH = 100\n",
    "num_epoch = 1\n",
    "#act_num_epoch = baseEPOCH * num_epoch\n",
    "act_num_epoch = len(train_loss_value)\n",
    "\n",
    "#以下グラフ描画\n",
    "plt.plot(range(act_num_epoch), train_loss_value)\n",
    "plt.plot(range(act_num_epoch), test_loss_value, c='#00ff00')\n",
    "plt.xlim(0, act_num_epoch)\n",
    "plt.ylim(0, ylim)\n",
    "plt.xlabel('EPOCH')\n",
    "plt.ylabel('LOSS(mm^2)')\n",
    "plt.legend(['train loss', 'test loss'])\n",
    "plt.title('loocation and pose LOSS')\n",
    "plt.savefig(PATH + \"\\\\loss_image_\" + str(act_num_epoch) + \".png\")\n",
    "plt.clf()"
   ]
  },
  {
   "cell_type": "code",
   "execution_count": null,
   "metadata": {},
   "outputs": [],
   "source": []
  },
  {
   "cell_type": "code",
   "execution_count": null,
   "metadata": {},
   "outputs": [],
   "source": []
  }
 ],
 "metadata": {
  "kernelspec": {
   "display_name": "Python 3",
   "language": "python",
   "name": "python3"
  },
  "language_info": {
   "codemirror_mode": {
    "name": "ipython",
    "version": 3
   },
   "file_extension": ".py",
   "mimetype": "text/x-python",
   "name": "python",
   "nbconvert_exporter": "python",
   "pygments_lexer": "ipython3",
   "version": "3.7.0"
  }
 },
 "nbformat": 4,
 "nbformat_minor": 2
}
